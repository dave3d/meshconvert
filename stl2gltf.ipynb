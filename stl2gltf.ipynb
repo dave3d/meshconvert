{
 "cells": [
  {
   "cell_type": "code",
   "execution_count": null,
   "metadata": {},
   "outputs": [],
   "source": [
    "import sys\n",
    "import os\n",
    "\n",
    "try:\n",
    "    import vtk\n",
    "except:\n",
    "    !{sys.executable} -m pip install vtk==9.0.1\n",
    "    import vtk\n",
    "try:\n",
    "    import requests\n",
    "except:\n",
    "    !{sys.executable} -m pip install requests\n",
    "    import requests"
   ]
  },
  {
   "cell_type": "code",
   "execution_count": null,
   "metadata": {},
   "outputs": [],
   "source": [
    "# Download an example STL file\n",
    "if not os.path.exists('teapot.stl'):\n",
    "    url = 'https://github.com/dave3d/meshconvert/raw/master/teapot.stl'\n",
    "    r = requests.get(url, allow_redirects=True)\n",
    "    open('teapot.stl', 'wb').write(r.content)\n",
    "    \n",
    "# Download the stl2gltf module\n",
    "if not os.path.exists('stl2gltf.py'):\n",
    "    url = 'https://github.com/dave3d/meshconvert/raw/master/stl2gltf.py'\n",
    "    r = requests.get(url, allow_redirects=True)\n",
    "    open('stl2gltf.py', 'wb').write(r.content)"
   ]
  },
  {
   "cell_type": "code",
   "execution_count": null,
   "metadata": {},
   "outputs": [],
   "source": [
    "import stl2gltf"
   ]
  },
  {
   "cell_type": "code",
   "execution_count": null,
   "metadata": {},
   "outputs": [],
   "source": [
    "# Convert an STL file to GLTF\n",
    "stl2gltf.stl2gltf(\"teapot.stl\", \"teapot.gltf\")"
   ]
  },
  {
   "cell_type": "code",
   "execution_count": null,
   "metadata": {},
   "outputs": [],
   "source": [
    "# Install the trimesh module to display the GLTF file\n",
    "try:\n",
    "    import trimesh\n",
    "except:\n",
    "    !{sys.executable} -m pip install trimesh networkx\n",
    "    import trimesh"
   ]
  },
  {
   "cell_type": "code",
   "execution_count": null,
   "metadata": {},
   "outputs": [],
   "source": [
    "try:\n",
    "    import scipy\n",
    "except:\n",
    "    !{sys.executable} -m pip install scipy\n",
    "    import scipy"
   ]
  },
  {
   "cell_type": "code",
   "execution_count": null,
   "metadata": {},
   "outputs": [],
   "source": [
    "# Load the GLTF file in trimesh\n",
    "\n",
    "tmesh = trimesh.load(\"./teapot.gltf\")\n",
    "m = tmesh.geometry['mesh0']\n",
    "\n",
    "# Set the mesh color to light blue\n",
    "m.visual=trimesh.visual.color.ColorVisuals(m, [220,220,255,255])"
   ]
  },
  {
   "cell_type": "code",
   "execution_count": null,
   "metadata": {},
   "outputs": [],
   "source": [
    "# Display the GLTF file\n",
    "m.show()"
   ]
  },
  {
   "cell_type": "code",
   "execution_count": null,
   "metadata": {},
   "outputs": [],
   "source": []
  }
 ],
 "metadata": {
  "kernelspec": {
   "display_name": "Python 3",
   "language": "python",
   "name": "python3"
  },
  "language_info": {
   "codemirror_mode": {
    "name": "ipython",
    "version": 3
   },
   "file_extension": ".py",
   "mimetype": "text/x-python",
   "name": "python",
   "nbconvert_exporter": "python",
   "pygments_lexer": "ipython3",
   "version": "3.7.9"
  }
 },
 "nbformat": 4,
 "nbformat_minor": 4
}
