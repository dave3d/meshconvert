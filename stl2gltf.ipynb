{
 "cells": [
  {
   "cell_type": "code",
   "execution_count": 1,
   "metadata": {},
   "outputs": [],
   "source": [
    "import sys\n",
    "try:\n",
    "    import vtk\n",
    "except:\n",
    "    !{sys.executable} -m pip install vtk==9.0.1\n",
    "    import vtk"
   ]
  },
  {
   "cell_type": "code",
   "execution_count": 2,
   "metadata": {},
   "outputs": [],
   "source": [
    "reader = vtk.vtkSTLReader()\n",
    "reader.SetFileName(\"teapot.stl\")"
   ]
  },
  {
   "cell_type": "code",
   "execution_count": 3,
   "metadata": {},
   "outputs": [],
   "source": [
    "reader.Update()\n",
    "mesh = reader.GetOutput()"
   ]
  },
  {
   "cell_type": "code",
   "execution_count": 8,
   "metadata": {},
   "outputs": [
    {
     "name": "stdout",
     "output_type": "stream",
     "text": [
      "Points: 15209\n",
      "Triangles: 30414\n"
     ]
    }
   ],
   "source": [
    "print(\"Points:\", mesh.GetNumberOfPoints())\n",
    "print(\"Triangles:\", mesh.GetNumberOfPolys())"
   ]
  },
  {
   "cell_type": "code",
   "execution_count": 5,
   "metadata": {},
   "outputs": [],
   "source": [
    "mapper = vtk.vtkPolyDataMapper()\n",
    "mapper.SetInputConnection(reader.GetOutputPort())\n",
    "\n",
    "actor = vtk.vtkActor()\n",
    "actor.SetMapper(mapper)\n",
    "\n",
    "# Create a rendering window and renderer\n",
    "ren = vtk.vtkRenderer()\n",
    "renWin = vtk.vtkRenderWindow()\n",
    "renWin.SetOffScreenRendering(1)\n",
    "\n",
    "renWin.AddRenderer(ren)\n",
    "\n",
    "\n",
    "# Assign actor to the renderer\n",
    "ren.AddActor(actor)\n",
    "\n",
    "renWin.Render()\n",
    "\n",
    "# Export the GLTF\n",
    "writer = vtk.vtkGLTFExporter()\n",
    "writer.SetFileName(\"teapot.gltf\")\n",
    "writer.InlineDataOn()\n",
    "writer.SetRenderWindow(renWin)\n",
    "writer.Write()"
   ]
  },
  {
   "cell_type": "code",
   "execution_count": 9,
   "metadata": {},
   "outputs": [],
   "source": [
    "try:\n",
    "    import trimesh\n",
    "except:\n",
    "    !{sys.executable} -m pip install trimesh\n",
    "    import trimesh"
   ]
  },
  {
   "cell_type": "code",
   "execution_count": 11,
   "metadata": {},
   "outputs": [],
   "source": [
    "tmesh = trimesh.load(\"teapot.gltf\")"
   ]
  },
  {
   "cell_type": "markdown",
   "metadata": {},
   "source": [
    "tmesh.show()"
   ]
  },
  {
   "cell_type": "code",
   "execution_count": null,
   "metadata": {},
   "outputs": [],
   "source": [
    "tm"
   ]
  }
 ],
 "metadata": {
  "kernelspec": {
   "display_name": "Python 3",
   "language": "python",
   "name": "python3"
  },
  "language_info": {
   "codemirror_mode": {
    "name": "ipython",
    "version": 3
   },
   "file_extension": ".py",
   "mimetype": "text/x-python",
   "name": "python",
   "nbconvert_exporter": "python",
   "pygments_lexer": "ipython3",
   "version": "3.7.7"
  }
 },
 "nbformat": 4,
 "nbformat_minor": 4
}
