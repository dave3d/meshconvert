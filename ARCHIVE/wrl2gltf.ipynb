{
 "cells": [
  {
   "cell_type": "markdown",
   "metadata": {},
   "source": [
    "# Converting WRL to GLTF"
   ]
  },
  {
   "cell_type": "code",
   "execution_count": null,
   "metadata": {},
   "outputs": [],
   "source": [
    "# Install the python libraries we need.\n",
    "# Use a virtual environment, otherwise they get installed into the system.\n",
    "\n",
    "!pip install vtk pymeshlab requests"
   ]
  },
  {
   "cell_type": "code",
   "execution_count": null,
   "metadata": {},
   "outputs": [],
   "source": [
    "import sys, os, requests"
   ]
  },
  {
   "cell_type": "code",
   "execution_count": null,
   "metadata": {},
   "outputs": [],
   "source": [
    "# Download an example WRL file and the python code.\n",
    "\n",
    "if not os.path.exists('pubchem.wrl'):\n",
    "    \n",
    "    # To try your own WRL file, replace this URL to download you file.\n",
    "    url = 'https://github.com/dave3d/meshconvert/raw/master/PubChem-522220-bas-color.wrl'\n",
    "    r = requests.get(url, allow_redirects=True)\n",
    "    open('pubchem.wrl', 'wb').write(r.content)\n",
    "\n",
    "    # These next two requests download the python code.\n",
    "    url = 'https://github.com/dave3d/meshconvert/raw/master/ply2gltf.py'\n",
    "    r = requests.get(url, allow_redirects=True)\n",
    "    open('ply2gltf.py', 'wb').write(r.content)\n",
    "    \n",
    "    url = 'https://github.com/dave3d/meshconvert/raw/master/wrl2gltf.py'\n",
    "    r = requests.get(url, allow_redirects=True)\n",
    "    open('wrl2gltf.py', 'wb').write(r.content)"
   ]
  },
  {
   "cell_type": "markdown",
   "metadata": {},
   "source": [
    "## My conversion module\n",
    "\n",
    "Note that the function will actually work on any file format MeshLab supports:  PLY, STL, OFF, OBJ, 3DS, VRML 2.0, X3D and COLLADA."
   ]
  },
  {
   "cell_type": "code",
   "execution_count": null,
   "metadata": {},
   "outputs": [],
   "source": [
    "import wrl2gltf"
   ]
  },
  {
   "cell_type": "markdown",
   "metadata": {},
   "source": [
    "Here's where we do the actual conversion"
   ]
  },
  {
   "cell_type": "code",
   "execution_count": null,
   "metadata": {},
   "outputs": [],
   "source": [
    "wrl2gltf.wrl2gltf('pubchem.wrl', 'pubchem.gltf')"
   ]
  },
  {
   "cell_type": "markdown",
   "metadata": {},
   "source": [
    "## This section of this notebook is to visualize the results"
   ]
  },
  {
   "cell_type": "code",
   "execution_count": null,
   "metadata": {},
   "outputs": [],
   "source": [
    "# I use the trimesh module to render the new GLTF file.\n",
    "\n",
    "!pip install trimesh scipy networkx\n",
    "import trimesh, scipy"
   ]
  },
  {
   "cell_type": "code",
   "execution_count": null,
   "metadata": {},
   "outputs": [],
   "source": [
    "# Load the GLTF file in trimesh.\n",
    "\n",
    "tmesh = trimesh.load(\"pubchem.gltf\")\n",
    "m = tmesh.geometry['mesh0']\n"
   ]
  },
  {
   "cell_type": "code",
   "execution_count": null,
   "metadata": {},
   "outputs": [],
   "source": [
    "m.show()"
   ]
  },
  {
   "cell_type": "markdown",
   "metadata": {},
   "source": [
    "## And now download the results"
   ]
  },
  {
   "cell_type": "code",
   "execution_count": null,
   "metadata": {},
   "outputs": [],
   "source": [
    "# This only works if the notebook is being run on Google Colab.\n",
    "# Also the download action only really works in Google Chrome.\n",
    "try:\n",
    "    from google.colab import files\n",
    "    files.download(\"pubchem.gltf\")\n",
    "except:\n",
    "    print(\"Let me guess. You're not on Google Colab.\")"
   ]
  }
 ],
 "metadata": {
  "kernelspec": {
   "display_name": "Python 3",
   "language": "python",
   "name": "python3"
  },
  "language_info": {
   "codemirror_mode": {
    "name": "ipython",
    "version": 3
   },
   "file_extension": ".py",
   "mimetype": "text/x-python",
   "name": "python",
   "nbconvert_exporter": "python",
   "pygments_lexer": "ipython3",
   "version": "3.8.5"
  }
 },
 "nbformat": 4,
 "nbformat_minor": 4
}
