{
 "cells": [
  {
   "cell_type": "markdown",
   "id": "ca61a014",
   "metadata": {},
   "source": [
    "# Mesh to PNG thumbnail example"
   ]
  },
  {
   "cell_type": "markdown",
   "id": "baf633f5",
   "metadata": {},
   "source": [
    "If you are running this notebook in Google Colab, you need to change the **runtime** type to GPU.  To do that, select **Runtime** -> **Change Runtime** -> **GPU**.  Also it will only display properly using Google Chrome."
   ]
  },
  {
   "cell_type": "code",
   "execution_count": null,
   "id": "a07e5fd4",
   "metadata": {},
   "outputs": [],
   "source": [
    "# Install the python libraries we need.\n",
    "# Use a virtual environment, otherwise they get installed into the system.\n",
    "\n",
    "!pip install -q trimesh pyrender requests pyglet matplotlib pymeshlab gitpython"
   ]
  },
  {
   "cell_type": "code",
   "execution_count": null,
   "id": "fb2d4482",
   "metadata": {},
   "outputs": [],
   "source": [
    "%matplotlib inline"
   ]
  },
  {
   "cell_type": "code",
   "execution_count": null,
   "id": "cc70bf30",
   "metadata": {},
   "outputs": [],
   "source": [
    "import sys, os, requests"
   ]
  },
  {
   "cell_type": "code",
   "execution_count": null,
   "id": "d4698050",
   "metadata": {},
   "outputs": [],
   "source": [
    "# Download meshconvert.\n",
    "from git import Repo\n",
    "\n",
    "if not os.path.exists('meshconvert/mesh2glb.py'):\n",
    "    Repo.clone_from('https://github.com/dave3d/meshconvert', 'meshconvert')"
   ]
  },
  {
   "cell_type": "code",
   "execution_count": null,
   "id": "2493b23d",
   "metadata": {},
   "outputs": [],
   "source": [
    "# Download a sample molecular model\n",
    "if not os.path.exists('pubchem.wrl'):\n",
    "    \n",
    "    # To try your own WRL file, replace this URL to download you file.\n",
    "    url = 'https://github.com/dave3d/meshconvert/raw/master/PubChem-522220-bas-color.wrl'\n",
    "    r = requests.get(url, allow_redirects=True)\n",
    "    open('pubchem.wrl', 'wb').write(r.content)"
   ]
  },
  {
   "cell_type": "raw",
   "id": "45f5850c",
   "metadata": {},
   "source": [
    "## Convert the mesh to GLB\n",
    "\n",
    "Note that the function will actually work on any file format Trimesh or PyMeshLab supports: GLB, PLY, STL, OFF, X3D, WRL, etc."
   ]
  },
  {
   "cell_type": "code",
   "execution_count": null,
   "id": "fce29d08",
   "metadata": {},
   "outputs": [],
   "source": [
    "!python meshconvert/mesh2glb.py pubchem.wrl pubchem.glb"
   ]
  },
  {
   "cell_type": "markdown",
   "id": "a081b141",
   "metadata": {},
   "source": [
    "## This section of this notebook is to visualize the results"
   ]
  },
  {
   "cell_type": "code",
   "execution_count": null,
   "id": "c8cbca94",
   "metadata": {},
   "outputs": [],
   "source": [
    "# I use the trimesh module to render the new GLB file.\n",
    "\n",
    "!pip install -q trimesh scipy networkx\n",
    "import trimesh, scipy"
   ]
  },
  {
   "cell_type": "code",
   "execution_count": null,
   "id": "835078b0",
   "metadata": {},
   "outputs": [],
   "source": [
    "# Load the GLB file in trimesh.\n",
    "\n",
    "tmesh = trimesh.load(\"pubchem.glb\")"
   ]
  },
  {
   "cell_type": "code",
   "execution_count": null,
   "id": "068e2094",
   "metadata": {},
   "outputs": [],
   "source": [
    "# If you click and drag on the model, you can rotate it.\n",
    "\n",
    "tmesh.show()"
   ]
  },
  {
   "cell_type": "markdown",
   "id": "e02ca24a",
   "metadata": {},
   "source": [
    "## OpenGL setup for Google Colab"
   ]
  },
  {
   "cell_type": "code",
   "execution_count": null,
   "id": "fadc4041",
   "metadata": {},
   "outputs": [],
   "source": [
    "# This only works if the notebook is being run on Google Colab.\n",
    "try:\n",
    "    from google.colab import files\n",
    "    os.environ[\"PYOPENGL_PLATFORM\"] = \"egl\"\n",
    "except:\n",
    "    print(\"Let me guess. You're not on Google Colab.\")"
   ]
  },
  {
   "cell_type": "markdown",
   "id": "a7a67ec8",
   "metadata": {},
   "source": [
    "## Generate the PNG thumbnail"
   ]
  },
  {
   "cell_type": "code",
   "execution_count": null,
   "id": "466c94ea",
   "metadata": {},
   "outputs": [],
   "source": [
    "# pubchem.glb is the input file.  The script will actually work on any file type\n",
    "# Trimesh supports: GLB, STL, PLY, OBJ, OFF, etc.\n",
    "\n",
    "!python meshconvert/glbthumb.py pubchem.glb pubchem.png"
   ]
  },
  {
   "cell_type": "markdown",
   "id": "3bad1faf",
   "metadata": {},
   "source": [
    "## Display the PNG"
   ]
  },
  {
   "cell_type": "code",
   "execution_count": null,
   "id": "9d747bf8",
   "metadata": {},
   "outputs": [],
   "source": [
    "import matplotlib.pyplot as plt\n",
    "import matplotlib.image as mpimg"
   ]
  },
  {
   "cell_type": "code",
   "execution_count": null,
   "id": "a0383b59",
   "metadata": {},
   "outputs": [],
   "source": [
    "img = mpimg.imread(\"pubchem.png\")\n",
    "imgplot = plt.imshow(img)"
   ]
  },
  {
   "cell_type": "markdown",
   "id": "e8c5438e",
   "metadata": {},
   "source": [
    "# Coloring a mesh\n",
    "\n",
    "This second example takes and STL model and renders is using a blue light source."
   ]
  },
  {
   "cell_type": "code",
   "execution_count": null,
   "id": "1144fdfe",
   "metadata": {},
   "outputs": [],
   "source": [
    "# Download a sample STL model\n",
    "\n",
    "if not os.path.exists('teapot.stl'):\n",
    "    \n",
    "    # To try your own WRL file, replace this URL to download you file.\n",
    "    url = 'https://github.com/dave3d/meshconvert/raw/master/teapot.stl'\n",
    "    r = requests.get(url, allow_redirects=True)\n",
    "    open('teapot.stl', 'wb').write(r.content)"
   ]
  },
  {
   "cell_type": "code",
   "execution_count": null,
   "id": "e5355527",
   "metadata": {},
   "outputs": [],
   "source": [
    "# The color option sets the color of the light source used in rendering the model.\n",
    "# \"0.4 0.4 1.0\" is a slate blue.\n",
    "\n",
    "!python meshconvert/glbthumb.py --color \"0.4 0.4 1.0\" teapot.stl teapot.png"
   ]
  },
  {
   "cell_type": "code",
   "execution_count": null,
   "id": "931c1ac3",
   "metadata": {},
   "outputs": [],
   "source": [
    "img = mpimg.imread(\"teapot.png\")\n",
    "imgplot = plt.imshow(img)"
   ]
  },
  {
   "cell_type": "markdown",
   "id": "7b524754",
   "metadata": {},
   "source": [
    "# Download the PNG files"
   ]
  },
  {
   "cell_type": "code",
   "execution_count": null,
   "id": "d1d46dd8",
   "metadata": {},
   "outputs": [],
   "source": [
    "# This only works if the notebook is being run on Google Colab.\n",
    "# Also the download action only really works in Google Chrome.\n",
    "try:\n",
    "    from google.colab import files\n",
    "    files.download(\"pubchem.png\")\n",
    "    files.download(\"teapot.png\")\n",
    "except:\n",
    "    print(\"Let me guess. You're not on Google Colab.\")"
   ]
  }
 ],
 "metadata": {
  "kernelspec": {
   "display_name": "Python 3",
   "language": "python",
   "name": "python3"
  },
  "language_info": {
   "codemirror_mode": {
    "name": "ipython",
    "version": 3
   },
   "file_extension": ".py",
   "mimetype": "text/x-python",
   "name": "python",
   "nbconvert_exporter": "python",
   "pygments_lexer": "ipython3",
   "version": "3.8.10"
  }
 },
 "nbformat": 4,
 "nbformat_minor": 5
}
