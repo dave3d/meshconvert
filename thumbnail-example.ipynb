{
 "cells": [
  {
   "cell_type": "markdown",
   "id": "ca61a014",
   "metadata": {},
   "source": [
    "# Mesh to PNG thumbnail example"
   ]
  },
  {
   "cell_type": "code",
   "execution_count": null,
   "id": "a07e5fd4",
   "metadata": {},
   "outputs": [],
   "source": [
    "# Install the python libraries we need.\n",
    "# Use a virtual environment, otherwise they get installed into the system.\n",
    "\n",
    "!pip install  trimesh pymeshlab requests pyglet matplotlib"
   ]
  },
  {
   "cell_type": "code",
   "execution_count": null,
   "id": "fb2d4482",
   "metadata": {},
   "outputs": [],
   "source": [
    "%matplotlib inline"
   ]
  },
  {
   "cell_type": "code",
   "execution_count": null,
   "id": "cc70bf30",
   "metadata": {},
   "outputs": [],
   "source": [
    "import sys, os, requests"
   ]
  },
  {
   "cell_type": "code",
   "execution_count": null,
   "id": "d4698050",
   "metadata": {},
   "outputs": [],
   "source": [
    "# Download an example WRL file and the python code.\n",
    "\n",
    "if not os.path.exists('pubchem.wrl'):\n",
    "    \n",
    "    # To try your own WRL file, replace this URL to download you file.\n",
    "    url = 'https://github.com/dave3d/meshconvert/raw/master/PubChem-522220-bas-color.wrl'\n",
    "    r = requests.get(url, allow_redirects=True)\n",
    "    open('pubchem.wrl', 'wb').write(r.content)"
   ]
  },
  {
   "cell_type": "markdown",
   "id": "b5b85b06",
   "metadata": {},
   "source": [
    "## My conversion module\n",
    "\n",
    "Note that the function will actually work on any file format MeshLab supports: PLY, STL, OFF, OBJ, 3DS, VRML 2.0, X3D and COLLADA."
   ]
  },
  {
   "cell_type": "code",
   "execution_count": null,
   "id": "08a695d0",
   "metadata": {},
   "outputs": [],
   "source": [
    "import mesh2glb"
   ]
  },
  {
   "cell_type": "code",
   "execution_count": null,
   "id": "fce29d08",
   "metadata": {},
   "outputs": [],
   "source": [
    "mesh2glb.mesh2glb(\"pubchem.wrl\", \"pubchem.glb\")"
   ]
  },
  {
   "cell_type": "markdown",
   "id": "a081b141",
   "metadata": {},
   "source": [
    "## This section of this notebook is to visualize the results"
   ]
  },
  {
   "cell_type": "code",
   "execution_count": null,
   "id": "c8cbca94",
   "metadata": {},
   "outputs": [],
   "source": [
    "# I use the trimesh module to render the new GLB file.\n",
    "\n",
    "!pip install trimesh scipy networkx\n",
    "import trimesh, scipy"
   ]
  },
  {
   "cell_type": "code",
   "execution_count": null,
   "id": "835078b0",
   "metadata": {},
   "outputs": [],
   "source": [
    "# Load the GLB file in trimesh.\n",
    "\n",
    "tmesh = trimesh.load(\"pubchem.glb\")"
   ]
  },
  {
   "cell_type": "code",
   "execution_count": null,
   "id": "068e2094",
   "metadata": {},
   "outputs": [],
   "source": [
    "tmesh.show()"
   ]
  },
  {
   "cell_type": "markdown",
   "id": "e02ca24a",
   "metadata": {},
   "source": [
    "## Download the GLB"
   ]
  },
  {
   "cell_type": "code",
   "execution_count": null,
   "id": "fadc4041",
   "metadata": {},
   "outputs": [],
   "source": [
    "# This only works if the notebook is being run on Google Colab.\n",
    "# Also the download action only really works in Google Chrome.\n",
    "try:\n",
    "    from google.colab import files\n",
    "    files.download(\"pubchem.glb\")\n",
    "except:\n",
    "    print(\"Let me guess. You're not on Google Colab.\")"
   ]
  },
  {
   "cell_type": "markdown",
   "id": "a7a67ec8",
   "metadata": {},
   "source": [
    "## Generate the PNG thumbnail"
   ]
  },
  {
   "cell_type": "code",
   "execution_count": null,
   "id": "d9b76f7b",
   "metadata": {},
   "outputs": [],
   "source": [
    "import glbthumb"
   ]
  },
  {
   "cell_type": "code",
   "execution_count": null,
   "id": "466c94ea",
   "metadata": {},
   "outputs": [],
   "source": [
    "glbthumb.generate_thumbnail(\"pubchem.glb\", \"pubchem.png\")"
   ]
  },
  {
   "cell_type": "markdown",
   "id": "3bad1faf",
   "metadata": {},
   "source": [
    "## Display the PNG"
   ]
  },
  {
   "cell_type": "code",
   "execution_count": null,
   "id": "9d747bf8",
   "metadata": {},
   "outputs": [],
   "source": [
    "import matplotlib.pyplot as plt\n",
    "import matplotlib.image as mpimg"
   ]
  },
  {
   "cell_type": "code",
   "execution_count": null,
   "id": "e8494bdc",
   "metadata": {},
   "outputs": [],
   "source": [
    "img = mpimg.imread(\"pubchem.png\")"
   ]
  },
  {
   "cell_type": "code",
   "execution_count": null,
   "id": "a0383b59",
   "metadata": {},
   "outputs": [],
   "source": [
    "imgplot = plt.imshow(img)"
   ]
  },
  {
   "cell_type": "code",
   "execution_count": null,
   "id": "4e5bf10e",
   "metadata": {},
   "outputs": [],
   "source": []
  }
 ],
 "metadata": {
  "kernelspec": {
   "display_name": "Python 3",
   "language": "python",
   "name": "python3"
  },
  "language_info": {
   "codemirror_mode": {
    "name": "ipython",
    "version": 3
   },
   "file_extension": ".py",
   "mimetype": "text/x-python",
   "name": "python",
   "nbconvert_exporter": "python",
   "pygments_lexer": "ipython3",
   "version": "3.8.8"
  }
 },
 "nbformat": 4,
 "nbformat_minor": 5
}
