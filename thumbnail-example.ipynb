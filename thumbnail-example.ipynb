{
 "cells": [
  {
   "cell_type": "markdown",
   "id": "ca61a014",
   "metadata": {},
   "source": [
    "# Mesh to PNG thumbnail example"
   ]
  },
  {
   "cell_type": "code",
   "execution_count": null,
   "id": "a07e5fd4",
   "metadata": {},
   "outputs": [],
   "source": [
    "# Install the python libraries we need.\n",
    "# Use a virtual environment, otherwise they get installed into the system.\n",
    "\n",
    "!pip install -q trimesh pyrender requests pyglet matplotlib pymeshlab gitpython"
   ]
  },
  {
   "cell_type": "code",
   "execution_count": null,
   "id": "fb2d4482",
   "metadata": {},
   "outputs": [],
   "source": [
    "%matplotlib inline"
   ]
  },
  {
   "cell_type": "code",
   "execution_count": null,
   "id": "cc70bf30",
   "metadata": {},
   "outputs": [],
   "source": [
    "import sys, os, requests"
   ]
  },
  {
   "cell_type": "code",
   "execution_count": null,
   "id": "d4698050",
   "metadata": {},
   "outputs": [],
   "source": [
    "# Download an example WRL file and the python code.\n",
    "from git import Repo\n",
    "\n",
    "if os.path.exists('mesh2glb.py'):\n",
    "    # In this case, we're running locally.\n",
    "    mc_dir = '.'    \n",
    "elif os.path.exists('meshconvert'):\n",
    "    sys.path.append('meshconvert')\n",
    "    mc_dir = \"meshconvert\"\n",
    "else:\n",
    "    # If you're running the notebook in Google Colab, we need\n",
    "    # to clone the meshconvert source repo.\n",
    "    Repo.clone_from('https://github.com/dave3d/meshconvert', 'meshconvert')\n",
    "    sys.path.append('meshconvert')\n",
    "    mc_dir = \"meshconvert\""
   ]
  },
  {
   "cell_type": "raw",
   "id": "5c0a26b8",
   "metadata": {},
   "source": [
    "## My conversion module\n",
    "\n",
    "Note that the function will actually work on any file format Trimesh supports: GLB, PLY, STL, OFF, etc."
   ]
  },
  {
   "cell_type": "code",
   "execution_count": null,
   "id": "08a695d0",
   "metadata": {},
   "outputs": [],
   "source": [
    "import mesh2glb"
   ]
  },
  {
   "cell_type": "code",
   "execution_count": null,
   "id": "fce29d08",
   "metadata": {},
   "outputs": [],
   "source": [
    "mesh2glb.mesh2glb(mc_dir+\"/PubChem-522220-bas-color.wrl\", \"pubchem.glb\")"
   ]
  },
  {
   "cell_type": "markdown",
   "id": "a081b141",
   "metadata": {},
   "source": [
    "## This section of this notebook is to visualize the results"
   ]
  },
  {
   "cell_type": "code",
   "execution_count": null,
   "id": "c8cbca94",
   "metadata": {},
   "outputs": [],
   "source": [
    "# I use the trimesh module to render the new GLB file.\n",
    "\n",
    "!pip install -q trimesh scipy networkx\n",
    "import trimesh, scipy"
   ]
  },
  {
   "cell_type": "code",
   "execution_count": null,
   "id": "835078b0",
   "metadata": {},
   "outputs": [],
   "source": [
    "# Load the GLB file in trimesh.\n",
    "\n",
    "tmesh = trimesh.load(\"pubchem.glb\")"
   ]
  },
  {
   "cell_type": "code",
   "execution_count": null,
   "id": "068e2094",
   "metadata": {},
   "outputs": [],
   "source": [
    "tmesh.show()"
   ]
  },
  {
   "cell_type": "markdown",
   "id": "e02ca24a",
   "metadata": {},
   "source": [
    "## Download the GLB"
   ]
  },
  {
   "cell_type": "code",
   "execution_count": null,
   "id": "fadc4041",
   "metadata": {},
   "outputs": [],
   "source": [
    "# This only works if the notebook is being run on Google Colab.\n",
    "# Also the download action only really works in Google Chrome.\n",
    "try:\n",
    "    from google.colab import files\n",
    "    files.download(\"pubchem.glb\")\n",
    "    os.environ[\"PYOPENGL_PLATFORM\"] = \"egl\"\n",
    "except:\n",
    "    print(\"Let me guess. You're not on Google Colab.\")"
   ]
  },
  {
   "cell_type": "markdown",
   "id": "a7a67ec8",
   "metadata": {},
   "source": [
    "## Generate the PNG thumbnail"
   ]
  },
  {
   "cell_type": "code",
   "execution_count": null,
   "id": "d9b76f7b",
   "metadata": {},
   "outputs": [],
   "source": [
    "import glbthumb"
   ]
  },
  {
   "cell_type": "code",
   "execution_count": null,
   "id": "466c94ea",
   "metadata": {},
   "outputs": [],
   "source": [
    "!python glbthumb.py pubchem.glb output.png"
   ]
  },
  {
   "cell_type": "markdown",
   "id": "3bad1faf",
   "metadata": {},
   "source": [
    "## Display the PNG"
   ]
  },
  {
   "cell_type": "code",
   "execution_count": null,
   "id": "9d747bf8",
   "metadata": {},
   "outputs": [],
   "source": [
    "import matplotlib.pyplot as plt\n",
    "import matplotlib.image as mpimg"
   ]
  },
  {
   "cell_type": "code",
   "execution_count": null,
   "id": "e8494bdc",
   "metadata": {},
   "outputs": [],
   "source": [
    "img = mpimg.imread(\"output.png\")"
   ]
  },
  {
   "cell_type": "code",
   "execution_count": null,
   "id": "a0383b59",
   "metadata": {},
   "outputs": [],
   "source": [
    "imgplot = plt.imshow(img)"
   ]
  }
 ],
 "metadata": {
  "kernelspec": {
   "display_name": "Python 3",
   "language": "python",
   "name": "python3"
  },
  "language_info": {
   "codemirror_mode": {
    "name": "ipython",
    "version": 3
   },
   "file_extension": ".py",
   "mimetype": "text/x-python",
   "name": "python",
   "nbconvert_exporter": "python",
   "pygments_lexer": "ipython3",
   "version": "3.8.10"
  }
 },
 "nbformat": 4,
 "nbformat_minor": 5
}
