{
 "cells": [
  {
   "cell_type": "code",
   "execution_count": null,
   "metadata": {},
   "outputs": [],
   "source": [
    "!pip install vtk pymeshlab requests trimesh networkx scipy"
   ]
  },
  {
   "cell_type": "code",
   "execution_count": null,
   "metadata": {},
   "outputs": [],
   "source": [
    "import sys, os"
   ]
  },
  {
   "cell_type": "code",
   "execution_count": null,
   "metadata": {},
   "outputs": [],
   "source": [
    "# Download WRL file and python code\n",
    "if not os.path.exists('PubChem-522220-bas-color.wrl'):\n",
    "    url = 'https://github.com/dave3d/meshconvert/raw/master/PubChem-522220-bas-color.wrl'\n",
    "    r = requests.get(url, allow_redirects=True)\n",
    "    open('teapot.stl', 'wb').write(r.content)\n",
    "\n",
    "    url = 'https://github.com/dave3d/meshconvert/raw/master/ply2gltf.py'\n",
    "    r = requests.get(url, allow_redirects=True)\n",
    "    open('ply2gltf.py', 'wb').write(r.content)\n",
    "    \n",
    "    url = 'https://github.com/dave3d/meshconvert/raw/master/wrl2gltf.py'\n",
    "    r = requests.get(url, allow_redirects=True)\n",
    "    open('wrl2gltf.py', 'wb').write(r.content)"
   ]
  },
  {
   "cell_type": "code",
   "execution_count": null,
   "metadata": {},
   "outputs": [],
   "source": [
    "import wrl2gltf"
   ]
  },
  {
   "cell_type": "code",
   "execution_count": null,
   "metadata": {},
   "outputs": [],
   "source": [
    "wrl2gltf.wrl2gltf('PubChem-522220-bas-color.wrl', 'pubchem.gltf')"
   ]
  },
  {
   "cell_type": "code",
   "execution_count": null,
   "metadata": {},
   "outputs": [],
   "source": [
    "import trimesh, scipy"
   ]
  },
  {
   "cell_type": "code",
   "execution_count": null,
   "metadata": {},
   "outputs": [],
   "source": [
    "# Load the GLTF file in trimesh\n",
    "\n",
    "tmesh = trimesh.load(\"./pubchem.gltf\")\n",
    "m = tmesh.geometry['mesh0']\n"
   ]
  },
  {
   "cell_type": "code",
   "execution_count": null,
   "metadata": {},
   "outputs": [],
   "source": [
    "m.show(bg_color=[200,200,0,255])"
   ]
  },
  {
   "cell_type": "code",
   "execution_count": null,
   "metadata": {},
   "outputs": [],
   "source": []
  }
 ],
 "metadata": {
  "kernelspec": {
   "display_name": "Python 3",
   "language": "python",
   "name": "python3"
  },
  "language_info": {
   "codemirror_mode": {
    "name": "ipython",
    "version": 3
   },
   "file_extension": ".py",
   "mimetype": "text/x-python",
   "name": "python",
   "nbconvert_exporter": "python",
   "pygments_lexer": "ipython3",
   "version": "3.7.9"
  }
 },
 "nbformat": 4,
 "nbformat_minor": 4
}
