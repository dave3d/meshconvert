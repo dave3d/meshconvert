{
 "cells": [
  {
   "cell_type": "markdown",
   "metadata": {},
   "source": [
    "# Converting a mesh to GLB"
   ]
  },
  {
   "cell_type": "code",
   "execution_count": 1,
   "metadata": {},
   "outputs": [
    {
     "name": "stdout",
     "output_type": "stream",
     "text": [
      "Requirement already satisfied: trimesh in /Users/dchen/opt/anaconda3/envs/pymeshlab/lib/python3.8/site-packages (3.9.1)\n",
      "Requirement already satisfied: pymeshlab in /Users/dchen/opt/anaconda3/envs/pymeshlab/lib/python3.8/site-packages (0.1.7)\n",
      "Requirement already satisfied: requests in /Users/dchen/opt/anaconda3/envs/pymeshlab/lib/python3.8/site-packages (2.25.1)\n",
      "Requirement already satisfied: numpy in /Users/dchen/opt/anaconda3/envs/pymeshlab/lib/python3.8/site-packages (from pymeshlab) (1.19.4)\n",
      "Requirement already satisfied: certifi>=2017.4.17 in /Users/dchen/opt/anaconda3/envs/pymeshlab/lib/python3.8/site-packages (from requests) (2020.12.5)\n",
      "Requirement already satisfied: urllib3<1.27,>=1.21.1 in /Users/dchen/opt/anaconda3/envs/pymeshlab/lib/python3.8/site-packages (from requests) (1.26.2)\n",
      "Requirement already satisfied: idna<3,>=2.5 in /Users/dchen/opt/anaconda3/envs/pymeshlab/lib/python3.8/site-packages (from requests) (2.10)\n",
      "Requirement already satisfied: chardet<5,>=3.0.2 in /Users/dchen/opt/anaconda3/envs/pymeshlab/lib/python3.8/site-packages (from requests) (4.0.0)\n",
      "Requirement already satisfied: setuptools in /Users/dchen/opt/anaconda3/envs/pymeshlab/lib/python3.8/site-packages (from trimesh) (51.0.0.post20201207)\n"
     ]
    }
   ],
   "source": [
    "# Install the python libraries we need.\n",
    "# Use a virtual environment, otherwise they get installed into the system.\n",
    "\n",
    "!pip install  trimesh pymeshlab requests"
   ]
  },
  {
   "cell_type": "code",
   "execution_count": 2,
   "metadata": {},
   "outputs": [],
   "source": [
    "import sys, os, requests"
   ]
  },
  {
   "cell_type": "code",
   "execution_count": 3,
   "metadata": {},
   "outputs": [],
   "source": [
    "# Download an example WRL file and the python code.\n",
    "\n",
    "if not os.path.exists('pubchem.wrl'):\n",
    "    \n",
    "    # To try your own WRL file, replace this URL to download you file.\n",
    "    url = 'https://github.com/dave3d/meshconvert/raw/master/PubChem-522220-bas-color.wrl'\n",
    "    r = requests.get(url, allow_redirects=True)\n",
    "    open('pubchem.wrl', 'wb').write(r.content)\n",
    "\n",
    "    url = 'https://github.com/dave3d/meshconvert/raw/master/mesh2glb.py'\n",
    "    r = requests.get(url, allow_redirects=True)\n",
    "    open('mesh2glb.py', 'wb').write(r.content)"
   ]
  },
  {
   "cell_type": "markdown",
   "metadata": {},
   "source": [
    "## My conversion module\n",
    "\n",
    "Note that the function will actually work on any file format MeshLab supports:  PLY, STL, OFF, OBJ, 3DS, VRML 2.0, X3D and COLLADA."
   ]
  },
  {
   "cell_type": "code",
   "execution_count": 4,
   "metadata": {},
   "outputs": [],
   "source": [
    "import mesh2glb"
   ]
  },
  {
   "cell_type": "markdown",
   "metadata": {},
   "source": [
    "Here's where we do the actual conversion"
   ]
  },
  {
   "cell_type": "code",
   "execution_count": 5,
   "metadata": {},
   "outputs": [],
   "source": [
    "mesh2glb.mesh2glb('pubchem.wrl', 'pubchem.glb')"
   ]
  },
  {
   "cell_type": "markdown",
   "metadata": {},
   "source": [
    "And here's the documentation for the function:"
   ]
  },
  {
   "cell_type": "code",
   "execution_count": 6,
   "metadata": {},
   "outputs": [
    {
     "name": "stdout",
     "output_type": "stream",
     "text": [
      "Help on function mesh2glb in module mesh2glb:\n",
      "\n",
      "mesh2glb(inname, outname)\n",
      "    Convert a mesh file to a GLB file.\n",
      "    \n",
      "    This function converts an input mesh to GLB in a 2 step process.\n",
      "    First it goes from mesh to PLY using MeshLab.  For input,\n",
      "    MeshLab supports the following formats:\n",
      "        PLY, STL, OFF, OBJ, 3DS, VRML 2.0, X3D and COLLADA.\n",
      "    \n",
      "    Then for the second step the PLY mesh is converted to GLB\n",
      "    using the Trimesh module, since MeshLab does not support GLB.\n",
      "    \n",
      "    Note that in the first step, and scene hierarchy and non-mesh\n",
      "    data such as camera, lights or animation is stripped out.\n",
      "\n"
     ]
    }
   ],
   "source": [
    "help(mesh2glb.mesh2glb)"
   ]
  },
  {
   "cell_type": "markdown",
   "metadata": {},
   "source": [
    "## This section of this notebook is to visualize the results"
   ]
  },
  {
   "cell_type": "code",
   "execution_count": 7,
   "metadata": {},
   "outputs": [
    {
     "name": "stdout",
     "output_type": "stream",
     "text": [
      "Requirement already satisfied: trimesh in /Users/dchen/opt/anaconda3/envs/pymeshlab/lib/python3.8/site-packages (3.9.1)\n",
      "Requirement already satisfied: scipy in /Users/dchen/opt/anaconda3/envs/pymeshlab/lib/python3.8/site-packages (1.6.0)\n",
      "Requirement already satisfied: networkx in /Users/dchen/opt/anaconda3/envs/pymeshlab/lib/python3.8/site-packages (2.5)\n",
      "Requirement already satisfied: decorator>=4.3.0 in /Users/dchen/opt/anaconda3/envs/pymeshlab/lib/python3.8/site-packages (from networkx) (4.4.2)\n",
      "Requirement already satisfied: numpy>=1.16.5 in /Users/dchen/opt/anaconda3/envs/pymeshlab/lib/python3.8/site-packages (from scipy) (1.19.4)\n",
      "Requirement already satisfied: setuptools in /Users/dchen/opt/anaconda3/envs/pymeshlab/lib/python3.8/site-packages (from trimesh) (51.0.0.post20201207)\n"
     ]
    }
   ],
   "source": [
    "# I use the trimesh module to render the new GLB file.\n",
    "\n",
    "!pip install trimesh scipy networkx\n",
    "import trimesh, scipy"
   ]
  },
  {
   "cell_type": "code",
   "execution_count": 8,
   "metadata": {},
   "outputs": [],
   "source": [
    "# Load the GLB file in trimesh.\n",
    "\n",
    "tmesh = trimesh.load(\"pubchem.glb\")"
   ]
  },
  {
   "cell_type": "code",
   "execution_count": 9,
   "metadata": {},
   "outputs": [
    {
     "ename": "NameError",
     "evalue": "name 'm' is not defined",
     "output_type": "error",
     "traceback": [
      "\u001b[0;31m---------------------------------------------------------------------------\u001b[0m",
      "\u001b[0;31mNameError\u001b[0m                                 Traceback (most recent call last)",
      "\u001b[0;32m<ipython-input-9-d2da3ba4e487>\u001b[0m in \u001b[0;36m<module>\u001b[0;34m\u001b[0m\n\u001b[0;32m----> 1\u001b[0;31m \u001b[0mm\u001b[0m\u001b[0;34m.\u001b[0m\u001b[0mshow\u001b[0m\u001b[0;34m(\u001b[0m\u001b[0;34m)\u001b[0m\u001b[0;34m\u001b[0m\u001b[0;34m\u001b[0m\u001b[0m\n\u001b[0m",
      "\u001b[0;31mNameError\u001b[0m: name 'm' is not defined"
     ]
    }
   ],
   "source": [
    "m.show()"
   ]
  },
  {
   "cell_type": "markdown",
   "metadata": {},
   "source": [
    "## And now download the results"
   ]
  },
  {
   "cell_type": "code",
   "execution_count": null,
   "metadata": {},
   "outputs": [],
   "source": [
    "# This only works if the notebook is being run on Google Colab.\n",
    "# Also the download action only really works in Google Chrome.\n",
    "try:\n",
    "    from google.colab import files\n",
    "    files.download(\"pubchem.glb\")\n",
    "except:\n",
    "    print(\"Let me guess. You're not on Google Colab.\")"
   ]
  },
  {
   "cell_type": "code",
   "execution_count": null,
   "metadata": {},
   "outputs": [],
   "source": []
  }
 ],
 "metadata": {
  "kernelspec": {
   "display_name": "Python 3",
   "language": "python",
   "name": "python3"
  },
  "language_info": {
   "codemirror_mode": {
    "name": "ipython",
    "version": 3
   },
   "file_extension": ".py",
   "mimetype": "text/x-python",
   "name": "python",
   "nbconvert_exporter": "python",
   "pygments_lexer": "ipython3",
   "version": "3.8.5"
  }
 },
 "nbformat": 4,
 "nbformat_minor": 4
}
